{
 "cells": [
  {
   "cell_type": "code",
   "execution_count": 1,
   "id": "331feed9",
   "metadata": {
    "_cell_guid": "b1076dfc-b9ad-4769-8c92-a6c4dae69d19",
    "_uuid": "8f2839f25d086af736a60e9eeb907d3b93b6e0e5",
    "editable": false,
    "execution": {
     "iopub.execute_input": "2021-09-18T10:40:44.140796Z",
     "iopub.status.busy": "2021-09-18T10:40:44.139771Z",
     "iopub.status.idle": "2021-09-18T10:40:44.150400Z",
     "shell.execute_reply": "2021-09-18T10:40:44.150875Z",
     "shell.execute_reply.started": "2021-09-18T10:39:56.543402Z"
    },
    "papermill": {
     "duration": 0.028219,
     "end_time": "2021-09-18T10:40:44.151152",
     "exception": false,
     "start_time": "2021-09-18T10:40:44.122933",
     "status": "completed"
    },
    "tags": []
   },
   "outputs": [
    {
     "name": "stdout",
     "output_type": "stream",
     "text": [
      "/kaggle/input/titanic/train.csv\n",
      "/kaggle/input/titanic/test.csv\n",
      "/kaggle/input/titanic/gender_submission.csv\n"
     ]
    }
   ],
   "source": [
    "# This Python 3 environment comes with many helpful analytics libraries installed\n",
    "# It is defined by the kaggle/python Docker image: https://github.com/kaggle/docker-python\n",
    "# For example, here's several helpful packages to load\n",
    "\n",
    "import numpy as np # linear algebra\n",
    "import pandas as pd # data processing, CSV file I/O (e.g. pd.read_csv)\n",
    "\n",
    "# Input data files are available in the read-only \"../input/\" directory\n",
    "# For example, running this (by clicking run or pressing Shift+Enter) will list all files under the input directory\n",
    "\n",
    "import os\n",
    "for dirname, _, filenames in os.walk('/kaggle/input'):\n",
    "    for filename in filenames:\n",
    "        print(os.path.join(dirname, filename))\n",
    "\n",
    "# You can write up to 20GB to the current directory (/kaggle/working/) that gets preserved as output when you create a version using \"Save & Run All\" \n",
    "# You can also write temporary files to /kaggle/temp/, but they won't be saved outside of the current session"
   ]
  },
  {
   "cell_type": "code",
   "execution_count": 2,
   "id": "9a529bb9",
   "metadata": {
    "editable": false,
    "execution": {
     "iopub.execute_input": "2021-09-18T10:40:44.179359Z",
     "iopub.status.busy": "2021-09-18T10:40:44.178789Z",
     "iopub.status.idle": "2021-09-18T10:40:44.214653Z",
     "shell.execute_reply": "2021-09-18T10:40:44.214050Z",
     "shell.execute_reply.started": "2021-09-18T10:39:56.555941Z"
    },
    "papermill": {
     "duration": 0.050536,
     "end_time": "2021-09-18T10:40:44.214791",
     "exception": false,
     "start_time": "2021-09-18T10:40:44.164255",
     "status": "completed"
    },
    "tags": []
   },
   "outputs": [
    {
     "data": {
      "text/html": [
       "<div>\n",
       "<style scoped>\n",
       "    .dataframe tbody tr th:only-of-type {\n",
       "        vertical-align: middle;\n",
       "    }\n",
       "\n",
       "    .dataframe tbody tr th {\n",
       "        vertical-align: top;\n",
       "    }\n",
       "\n",
       "    .dataframe thead th {\n",
       "        text-align: right;\n",
       "    }\n",
       "</style>\n",
       "<table border=\"1\" class=\"dataframe\">\n",
       "  <thead>\n",
       "    <tr style=\"text-align: right;\">\n",
       "      <th></th>\n",
       "      <th>PassengerId</th>\n",
       "      <th>Survived</th>\n",
       "      <th>Pclass</th>\n",
       "      <th>Name</th>\n",
       "      <th>Sex</th>\n",
       "      <th>Age</th>\n",
       "      <th>SibSp</th>\n",
       "      <th>Parch</th>\n",
       "      <th>Ticket</th>\n",
       "      <th>Fare</th>\n",
       "      <th>Cabin</th>\n",
       "      <th>Embarked</th>\n",
       "    </tr>\n",
       "  </thead>\n",
       "  <tbody>\n",
       "    <tr>\n",
       "      <th>0</th>\n",
       "      <td>1</td>\n",
       "      <td>0</td>\n",
       "      <td>3</td>\n",
       "      <td>Braund, Mr. Owen Harris</td>\n",
       "      <td>male</td>\n",
       "      <td>22.0</td>\n",
       "      <td>1</td>\n",
       "      <td>0</td>\n",
       "      <td>A/5 21171</td>\n",
       "      <td>7.2500</td>\n",
       "      <td>NaN</td>\n",
       "      <td>S</td>\n",
       "    </tr>\n",
       "    <tr>\n",
       "      <th>1</th>\n",
       "      <td>2</td>\n",
       "      <td>1</td>\n",
       "      <td>1</td>\n",
       "      <td>Cumings, Mrs. John Bradley (Florence Briggs Th...</td>\n",
       "      <td>female</td>\n",
       "      <td>38.0</td>\n",
       "      <td>1</td>\n",
       "      <td>0</td>\n",
       "      <td>PC 17599</td>\n",
       "      <td>71.2833</td>\n",
       "      <td>C85</td>\n",
       "      <td>C</td>\n",
       "    </tr>\n",
       "    <tr>\n",
       "      <th>2</th>\n",
       "      <td>3</td>\n",
       "      <td>1</td>\n",
       "      <td>3</td>\n",
       "      <td>Heikkinen, Miss. Laina</td>\n",
       "      <td>female</td>\n",
       "      <td>26.0</td>\n",
       "      <td>0</td>\n",
       "      <td>0</td>\n",
       "      <td>STON/O2. 3101282</td>\n",
       "      <td>7.9250</td>\n",
       "      <td>NaN</td>\n",
       "      <td>S</td>\n",
       "    </tr>\n",
       "    <tr>\n",
       "      <th>3</th>\n",
       "      <td>4</td>\n",
       "      <td>1</td>\n",
       "      <td>1</td>\n",
       "      <td>Futrelle, Mrs. Jacques Heath (Lily May Peel)</td>\n",
       "      <td>female</td>\n",
       "      <td>35.0</td>\n",
       "      <td>1</td>\n",
       "      <td>0</td>\n",
       "      <td>113803</td>\n",
       "      <td>53.1000</td>\n",
       "      <td>C123</td>\n",
       "      <td>S</td>\n",
       "    </tr>\n",
       "    <tr>\n",
       "      <th>4</th>\n",
       "      <td>5</td>\n",
       "      <td>0</td>\n",
       "      <td>3</td>\n",
       "      <td>Allen, Mr. William Henry</td>\n",
       "      <td>male</td>\n",
       "      <td>35.0</td>\n",
       "      <td>0</td>\n",
       "      <td>0</td>\n",
       "      <td>373450</td>\n",
       "      <td>8.0500</td>\n",
       "      <td>NaN</td>\n",
       "      <td>S</td>\n",
       "    </tr>\n",
       "  </tbody>\n",
       "</table>\n",
       "</div>"
      ],
      "text/plain": [
       "   PassengerId  Survived  Pclass  \\\n",
       "0            1         0       3   \n",
       "1            2         1       1   \n",
       "2            3         1       3   \n",
       "3            4         1       1   \n",
       "4            5         0       3   \n",
       "\n",
       "                                                Name     Sex   Age  SibSp  \\\n",
       "0                            Braund, Mr. Owen Harris    male  22.0      1   \n",
       "1  Cumings, Mrs. John Bradley (Florence Briggs Th...  female  38.0      1   \n",
       "2                             Heikkinen, Miss. Laina  female  26.0      0   \n",
       "3       Futrelle, Mrs. Jacques Heath (Lily May Peel)  female  35.0      1   \n",
       "4                           Allen, Mr. William Henry    male  35.0      0   \n",
       "\n",
       "   Parch            Ticket     Fare Cabin Embarked  \n",
       "0      0         A/5 21171   7.2500   NaN        S  \n",
       "1      0          PC 17599  71.2833   C85        C  \n",
       "2      0  STON/O2. 3101282   7.9250   NaN        S  \n",
       "3      0            113803  53.1000  C123        S  \n",
       "4      0            373450   8.0500   NaN        S  "
      ]
     },
     "execution_count": 2,
     "metadata": {},
     "output_type": "execute_result"
    }
   ],
   "source": [
    "train_data = pd.read_csv('/kaggle/input/titanic/train.csv')\n",
    "train_data.head()"
   ]
  },
  {
   "cell_type": "code",
   "execution_count": 3,
   "id": "6fdc5f77",
   "metadata": {
    "editable": false,
    "execution": {
     "iopub.execute_input": "2021-09-18T10:40:44.244842Z",
     "iopub.status.busy": "2021-09-18T10:40:44.244201Z",
     "iopub.status.idle": "2021-09-18T10:40:44.263619Z",
     "shell.execute_reply": "2021-09-18T10:40:44.263019Z",
     "shell.execute_reply.started": "2021-09-18T10:39:56.586447Z"
    },
    "papermill": {
     "duration": 0.036146,
     "end_time": "2021-09-18T10:40:44.263757",
     "exception": false,
     "start_time": "2021-09-18T10:40:44.227611",
     "status": "completed"
    },
    "tags": []
   },
   "outputs": [
    {
     "data": {
      "text/html": [
       "<div>\n",
       "<style scoped>\n",
       "    .dataframe tbody tr th:only-of-type {\n",
       "        vertical-align: middle;\n",
       "    }\n",
       "\n",
       "    .dataframe tbody tr th {\n",
       "        vertical-align: top;\n",
       "    }\n",
       "\n",
       "    .dataframe thead th {\n",
       "        text-align: right;\n",
       "    }\n",
       "</style>\n",
       "<table border=\"1\" class=\"dataframe\">\n",
       "  <thead>\n",
       "    <tr style=\"text-align: right;\">\n",
       "      <th></th>\n",
       "      <th>PassengerId</th>\n",
       "      <th>Pclass</th>\n",
       "      <th>Name</th>\n",
       "      <th>Sex</th>\n",
       "      <th>Age</th>\n",
       "      <th>SibSp</th>\n",
       "      <th>Parch</th>\n",
       "      <th>Ticket</th>\n",
       "      <th>Fare</th>\n",
       "      <th>Cabin</th>\n",
       "      <th>Embarked</th>\n",
       "    </tr>\n",
       "  </thead>\n",
       "  <tbody>\n",
       "    <tr>\n",
       "      <th>413</th>\n",
       "      <td>1305</td>\n",
       "      <td>3</td>\n",
       "      <td>Spector, Mr. Woolf</td>\n",
       "      <td>male</td>\n",
       "      <td>NaN</td>\n",
       "      <td>0</td>\n",
       "      <td>0</td>\n",
       "      <td>A.5. 3236</td>\n",
       "      <td>8.0500</td>\n",
       "      <td>NaN</td>\n",
       "      <td>S</td>\n",
       "    </tr>\n",
       "    <tr>\n",
       "      <th>414</th>\n",
       "      <td>1306</td>\n",
       "      <td>1</td>\n",
       "      <td>Oliva y Ocana, Dona. Fermina</td>\n",
       "      <td>female</td>\n",
       "      <td>39.0</td>\n",
       "      <td>0</td>\n",
       "      <td>0</td>\n",
       "      <td>PC 17758</td>\n",
       "      <td>108.9000</td>\n",
       "      <td>C105</td>\n",
       "      <td>C</td>\n",
       "    </tr>\n",
       "    <tr>\n",
       "      <th>415</th>\n",
       "      <td>1307</td>\n",
       "      <td>3</td>\n",
       "      <td>Saether, Mr. Simon Sivertsen</td>\n",
       "      <td>male</td>\n",
       "      <td>38.5</td>\n",
       "      <td>0</td>\n",
       "      <td>0</td>\n",
       "      <td>SOTON/O.Q. 3101262</td>\n",
       "      <td>7.2500</td>\n",
       "      <td>NaN</td>\n",
       "      <td>S</td>\n",
       "    </tr>\n",
       "    <tr>\n",
       "      <th>416</th>\n",
       "      <td>1308</td>\n",
       "      <td>3</td>\n",
       "      <td>Ware, Mr. Frederick</td>\n",
       "      <td>male</td>\n",
       "      <td>NaN</td>\n",
       "      <td>0</td>\n",
       "      <td>0</td>\n",
       "      <td>359309</td>\n",
       "      <td>8.0500</td>\n",
       "      <td>NaN</td>\n",
       "      <td>S</td>\n",
       "    </tr>\n",
       "    <tr>\n",
       "      <th>417</th>\n",
       "      <td>1309</td>\n",
       "      <td>3</td>\n",
       "      <td>Peter, Master. Michael J</td>\n",
       "      <td>male</td>\n",
       "      <td>NaN</td>\n",
       "      <td>1</td>\n",
       "      <td>1</td>\n",
       "      <td>2668</td>\n",
       "      <td>22.3583</td>\n",
       "      <td>NaN</td>\n",
       "      <td>C</td>\n",
       "    </tr>\n",
       "  </tbody>\n",
       "</table>\n",
       "</div>"
      ],
      "text/plain": [
       "     PassengerId  Pclass                          Name     Sex   Age  SibSp  \\\n",
       "413         1305       3            Spector, Mr. Woolf    male   NaN      0   \n",
       "414         1306       1  Oliva y Ocana, Dona. Fermina  female  39.0      0   \n",
       "415         1307       3  Saether, Mr. Simon Sivertsen    male  38.5      0   \n",
       "416         1308       3           Ware, Mr. Frederick    male   NaN      0   \n",
       "417         1309       3      Peter, Master. Michael J    male   NaN      1   \n",
       "\n",
       "     Parch              Ticket      Fare Cabin Embarked  \n",
       "413      0           A.5. 3236    8.0500   NaN        S  \n",
       "414      0            PC 17758  108.9000  C105        C  \n",
       "415      0  SOTON/O.Q. 3101262    7.2500   NaN        S  \n",
       "416      0              359309    8.0500   NaN        S  \n",
       "417      1                2668   22.3583   NaN        C  "
      ]
     },
     "execution_count": 3,
     "metadata": {},
     "output_type": "execute_result"
    }
   ],
   "source": [
    "test_data = pd.read_csv('/kaggle/input/titanic/test.csv')\n",
    "test_data.tail()"
   ]
  },
  {
   "cell_type": "code",
   "execution_count": 4,
   "id": "13ab8234",
   "metadata": {
    "editable": false,
    "execution": {
     "iopub.execute_input": "2021-09-18T10:40:44.294189Z",
     "iopub.status.busy": "2021-09-18T10:40:44.293293Z",
     "iopub.status.idle": "2021-09-18T10:40:44.331139Z",
     "shell.execute_reply": "2021-09-18T10:40:44.330668Z",
     "shell.execute_reply.started": "2021-09-18T10:39:56.610086Z"
    },
    "papermill": {
     "duration": 0.054069,
     "end_time": "2021-09-18T10:40:44.331285",
     "exception": false,
     "start_time": "2021-09-18T10:40:44.277216",
     "status": "completed"
    },
    "tags": []
   },
   "outputs": [
    {
     "data": {
      "text/html": [
       "<div>\n",
       "<style scoped>\n",
       "    .dataframe tbody tr th:only-of-type {\n",
       "        vertical-align: middle;\n",
       "    }\n",
       "\n",
       "    .dataframe tbody tr th {\n",
       "        vertical-align: top;\n",
       "    }\n",
       "\n",
       "    .dataframe thead th {\n",
       "        text-align: right;\n",
       "    }\n",
       "</style>\n",
       "<table border=\"1\" class=\"dataframe\">\n",
       "  <thead>\n",
       "    <tr style=\"text-align: right;\">\n",
       "      <th></th>\n",
       "      <th>PassengerId</th>\n",
       "      <th>Survived</th>\n",
       "      <th>Pclass</th>\n",
       "      <th>Age</th>\n",
       "      <th>SibSp</th>\n",
       "      <th>Parch</th>\n",
       "      <th>Fare</th>\n",
       "    </tr>\n",
       "  </thead>\n",
       "  <tbody>\n",
       "    <tr>\n",
       "      <th>count</th>\n",
       "      <td>891.000000</td>\n",
       "      <td>891.000000</td>\n",
       "      <td>891.000000</td>\n",
       "      <td>714.000000</td>\n",
       "      <td>891.000000</td>\n",
       "      <td>891.000000</td>\n",
       "      <td>891.000000</td>\n",
       "    </tr>\n",
       "    <tr>\n",
       "      <th>mean</th>\n",
       "      <td>446.000000</td>\n",
       "      <td>0.383838</td>\n",
       "      <td>2.308642</td>\n",
       "      <td>29.699118</td>\n",
       "      <td>0.523008</td>\n",
       "      <td>0.381594</td>\n",
       "      <td>32.204208</td>\n",
       "    </tr>\n",
       "    <tr>\n",
       "      <th>std</th>\n",
       "      <td>257.353842</td>\n",
       "      <td>0.486592</td>\n",
       "      <td>0.836071</td>\n",
       "      <td>14.526497</td>\n",
       "      <td>1.102743</td>\n",
       "      <td>0.806057</td>\n",
       "      <td>49.693429</td>\n",
       "    </tr>\n",
       "    <tr>\n",
       "      <th>min</th>\n",
       "      <td>1.000000</td>\n",
       "      <td>0.000000</td>\n",
       "      <td>1.000000</td>\n",
       "      <td>0.420000</td>\n",
       "      <td>0.000000</td>\n",
       "      <td>0.000000</td>\n",
       "      <td>0.000000</td>\n",
       "    </tr>\n",
       "    <tr>\n",
       "      <th>25%</th>\n",
       "      <td>223.500000</td>\n",
       "      <td>0.000000</td>\n",
       "      <td>2.000000</td>\n",
       "      <td>20.125000</td>\n",
       "      <td>0.000000</td>\n",
       "      <td>0.000000</td>\n",
       "      <td>7.910400</td>\n",
       "    </tr>\n",
       "    <tr>\n",
       "      <th>50%</th>\n",
       "      <td>446.000000</td>\n",
       "      <td>0.000000</td>\n",
       "      <td>3.000000</td>\n",
       "      <td>28.000000</td>\n",
       "      <td>0.000000</td>\n",
       "      <td>0.000000</td>\n",
       "      <td>14.454200</td>\n",
       "    </tr>\n",
       "    <tr>\n",
       "      <th>75%</th>\n",
       "      <td>668.500000</td>\n",
       "      <td>1.000000</td>\n",
       "      <td>3.000000</td>\n",
       "      <td>38.000000</td>\n",
       "      <td>1.000000</td>\n",
       "      <td>0.000000</td>\n",
       "      <td>31.000000</td>\n",
       "    </tr>\n",
       "    <tr>\n",
       "      <th>max</th>\n",
       "      <td>891.000000</td>\n",
       "      <td>1.000000</td>\n",
       "      <td>3.000000</td>\n",
       "      <td>80.000000</td>\n",
       "      <td>8.000000</td>\n",
       "      <td>6.000000</td>\n",
       "      <td>512.329200</td>\n",
       "    </tr>\n",
       "  </tbody>\n",
       "</table>\n",
       "</div>"
      ],
      "text/plain": [
       "       PassengerId    Survived      Pclass         Age       SibSp  \\\n",
       "count   891.000000  891.000000  891.000000  714.000000  891.000000   \n",
       "mean    446.000000    0.383838    2.308642   29.699118    0.523008   \n",
       "std     257.353842    0.486592    0.836071   14.526497    1.102743   \n",
       "min       1.000000    0.000000    1.000000    0.420000    0.000000   \n",
       "25%     223.500000    0.000000    2.000000   20.125000    0.000000   \n",
       "50%     446.000000    0.000000    3.000000   28.000000    0.000000   \n",
       "75%     668.500000    1.000000    3.000000   38.000000    1.000000   \n",
       "max     891.000000    1.000000    3.000000   80.000000    8.000000   \n",
       "\n",
       "            Parch        Fare  \n",
       "count  891.000000  891.000000  \n",
       "mean     0.381594   32.204208  \n",
       "std      0.806057   49.693429  \n",
       "min      0.000000    0.000000  \n",
       "25%      0.000000    7.910400  \n",
       "50%      0.000000   14.454200  \n",
       "75%      0.000000   31.000000  \n",
       "max      6.000000  512.329200  "
      ]
     },
     "execution_count": 4,
     "metadata": {},
     "output_type": "execute_result"
    }
   ],
   "source": [
    "train_data.describe()"
   ]
  },
  {
   "cell_type": "code",
   "execution_count": 5,
   "id": "e7d0c3f7",
   "metadata": {
    "editable": false,
    "execution": {
     "iopub.execute_input": "2021-09-18T10:40:44.362986Z",
     "iopub.status.busy": "2021-09-18T10:40:44.362052Z",
     "iopub.status.idle": "2021-09-18T10:40:44.670355Z",
     "shell.execute_reply": "2021-09-18T10:40:44.669484Z",
     "shell.execute_reply.started": "2021-09-18T10:39:56.648196Z"
    },
    "papermill": {
     "duration": 0.324967,
     "end_time": "2021-09-18T10:40:44.670501",
     "exception": false,
     "start_time": "2021-09-18T10:40:44.345534",
     "status": "completed"
    },
    "tags": []
   },
   "outputs": [
    {
     "data": {
      "text/plain": [
       "<AxesSubplot:xlabel='index'>"
      ]
     },
     "execution_count": 5,
     "metadata": {},
     "output_type": "execute_result"
    },
    {
     "data": {
      "image/png": "[encoded data removed]",
      "text/plain": [
       "<Figure size 432x288 with 1 Axes>"
      ]
     },
     "metadata": {
      "needs_background": "light"
     },
     "output_type": "display_data"
    }
   ],
   "source": [
    "train_data.isna().sum().reset_index(name=\"n\").plot.bar(x='index', y='n', rot=45)"
   ]
  },
  {
   "cell_type": "code",
   "execution_count": 6,
   "id": "44ffdda1",
   "metadata": {
    "editable": false,
    "execution": {
     "iopub.execute_input": "2021-09-18T10:40:44.709846Z",
     "iopub.status.busy": "2021-09-18T10:40:44.709198Z",
     "iopub.status.idle": "2021-09-18T10:40:44.714226Z",
     "shell.execute_reply": "2021-09-18T10:40:44.714626Z",
     "shell.execute_reply.started": "2021-09-18T10:39:56.978955Z"
    },
    "papermill": {
     "duration": 0.029719,
     "end_time": "2021-09-18T10:40:44.714787",
     "exception": false,
     "start_time": "2021-09-18T10:40:44.685068",
     "status": "completed"
    },
    "tags": []
   },
   "outputs": [
    {
     "data": {
      "text/plain": [
       "PassengerId      0\n",
       "Survived         0\n",
       "Pclass           0\n",
       "Name             0\n",
       "Sex              0\n",
       "Age              0\n",
       "SibSp            0\n",
       "Parch            0\n",
       "Ticket           0\n",
       "Fare             0\n",
       "Cabin          687\n",
       "Embarked         0\n",
       "dtype: int64"
      ]
     },
     "execution_count": 6,
     "metadata": {},
     "output_type": "execute_result"
    }
   ],
   "source": [
    "train_data[\"Age\"].fillna((train_data['Age'].mean()), inplace=True)\n",
    "train_data[\"Embarked\"].fillna((train_data[\"Embarked\"].mode()[0]), inplace=True)\n",
    "train_data.isna().sum()"
   ]
  },
  {
   "cell_type": "code",
   "execution_count": 7,
   "id": "32a03915",
   "metadata": {
    "execution": {
     "iopub.execute_input": "2021-09-18T10:40:44.756877Z",
     "iopub.status.busy": "2021-09-18T10:40:44.746958Z",
     "iopub.status.idle": "2021-09-18T10:40:44.759615Z",
     "shell.execute_reply": "2021-09-18T10:40:44.760090Z",
     "shell.execute_reply.started": "2021-09-18T10:39:56.993063Z"
    },
    "papermill": {
     "duration": 0.030828,
     "end_time": "2021-09-18T10:40:44.760251",
     "exception": false,
     "start_time": "2021-09-18T10:40:44.729423",
     "status": "completed"
    },
    "tags": []
   },
   "outputs": [
    {
     "data": {
      "text/plain": [
       "PassengerId      0\n",
       "Pclass           0\n",
       "Name             0\n",
       "Sex              0\n",
       "Age              0\n",
       "SibSp            0\n",
       "Parch            0\n",
       "Ticket           0\n",
       "Fare             0\n",
       "Cabin          327\n",
       "Embarked         0\n",
       "dtype: int64"
      ]
     },
     "execution_count": 7,
     "metadata": {},
     "output_type": "execute_result"
    }
   ],
   "source": [
    "train_data[\"Fare\"].fillna((train_data['Fare'].mean()), inplace=True)\n",
    "test_data[\"Fare\"].fillna((test_data['Fare'].mean()), inplace=True)\n",
    "test_data[\"Age\"].fillna((test_data[\"Age\"].mean()), inplace=True)\n",
    "test_data[\"Embarked\"].fillna((test_data[\"Embarked\"].mode()),inplace=True)\n",
    "test_data.isna().sum()"
   ]
  },
  {
   "cell_type": "code",
   "execution_count": 8,
   "id": "b8e3f93d",
   "metadata": {
    "editable": false,
    "execution": {
     "iopub.execute_input": "2021-09-18T10:40:44.793683Z",
     "iopub.status.busy": "2021-09-18T10:40:44.792804Z",
     "iopub.status.idle": "2021-09-18T10:40:44.989162Z",
     "shell.execute_reply": "2021-09-18T10:40:44.988553Z",
     "shell.execute_reply.started": "2021-09-18T10:39:57.010992Z"
    },
    "papermill": {
     "duration": 0.214108,
     "end_time": "2021-09-18T10:40:44.989303",
     "exception": false,
     "start_time": "2021-09-18T10:40:44.775195",
     "status": "completed"
    },
    "tags": []
   },
   "outputs": [
    {
     "data": {
      "image/png": "[encoded data removed]",
      "text/plain": [
       "<Figure size 432x288 with 1 Axes>"
      ]
     },
     "metadata": {
      "needs_background": "light"
     },
     "output_type": "display_data"
    }
   ],
   "source": [
    "import matplotlib.pyplot as plt \n",
    "survivers = train_data[train_data[\"Survived\"] == 1] \n",
    "plt.hist(x=\"Age\",data= survivers)\n",
    "plt.xlabel(\"Age\")\n",
    "plt.ylabel(\"Total Survivors\")\n",
    "plt.show()"
   ]
  },
  {
   "cell_type": "code",
   "execution_count": 9,
   "id": "dffcf63b",
   "metadata": {
    "editable": false,
    "execution": {
     "iopub.execute_input": "2021-09-18T10:40:45.043678Z",
     "iopub.status.busy": "2021-09-18T10:40:45.040808Z",
     "iopub.status.idle": "2021-09-18T10:40:45.049724Z",
     "shell.execute_reply": "2021-09-18T10:40:45.049090Z",
     "shell.execute_reply.started": "2021-09-18T10:39:57.259833Z"
    },
    "papermill": {
     "duration": 0.034404,
     "end_time": "2021-09-18T10:40:45.049866",
     "exception": false,
     "start_time": "2021-09-18T10:40:45.015462",
     "status": "completed"
    },
    "tags": []
   },
   "outputs": [],
   "source": [
    "labels = [\"kid\",\"teenager\",\"young\",\"middleage\",\"old\"]\n",
    "bins = [0,10,20,40,50,90]\n",
    "train_data[\"Agegroup\"] = pd.cut(train_data[\"Age\"],bins = bins , labels = labels , right = False)\n",
    "test_data[\"Agegroup\"] = pd.cut(test_data[\"Age\"],bins = bins , labels = labels, right = False )"
   ]
  },
  {
   "cell_type": "code",
   "execution_count": 10,
   "id": "0b61019d",
   "metadata": {
    "editable": false,
    "execution": {
     "iopub.execute_input": "2021-09-18T10:40:45.086184Z",
     "iopub.status.busy": "2021-09-18T10:40:45.085431Z",
     "iopub.status.idle": "2021-09-18T10:40:46.203025Z",
     "shell.execute_reply": "2021-09-18T10:40:46.202503Z",
     "shell.execute_reply.started": "2021-09-18T10:39:57.275023Z"
    },
    "papermill": {
     "duration": 1.137643,
     "end_time": "2021-09-18T10:40:46.203181",
     "exception": false,
     "start_time": "2021-09-18T10:40:45.065538",
     "status": "completed"
    },
    "tags": []
   },
   "outputs": [
    {
     "data": {
      "text/plain": [
       "<AxesSubplot:xlabel='Agegroup', ylabel='Fare'>"
      ]
     },
     "execution_count": 10,
     "metadata": {},
     "output_type": "execute_result"
    },
    {
     "data": {
      "image/png": "[encoded data removed]",
      "text/plain": [
       "<Figure size 432x288 with 1 Axes>"
      ]
     },
     "metadata": {
      "needs_background": "light"
     },
     "output_type": "display_data"
    }
   ],
   "source": [
    "import seaborn as sns \n",
    "sns.scatterplot(x= \"Agegroup\", y = \"Fare\"  , hue = \"Survived\", data = train_data)"
   ]
  },
  {
   "cell_type": "code",
   "execution_count": 11,
   "id": "18cafdc4",
   "metadata": {
    "editable": false,
    "execution": {
     "iopub.execute_input": "2021-09-18T10:40:46.248427Z",
     "iopub.status.busy": "2021-09-18T10:40:46.247828Z",
     "iopub.status.idle": "2021-09-18T10:40:46.265114Z",
     "shell.execute_reply": "2021-09-18T10:40:46.265523Z",
     "shell.execute_reply.started": "2021-09-18T10:39:57.648133Z"
    },
    "papermill": {
     "duration": 0.045061,
     "end_time": "2021-09-18T10:40:46.265735",
     "exception": false,
     "start_time": "2021-09-18T10:40:46.220674",
     "status": "completed"
    },
    "tags": []
   },
   "outputs": [
    {
     "data": {
      "text/html": [
       "<div>\n",
       "<style scoped>\n",
       "    .dataframe tbody tr th:only-of-type {\n",
       "        vertical-align: middle;\n",
       "    }\n",
       "\n",
       "    .dataframe tbody tr th {\n",
       "        vertical-align: top;\n",
       "    }\n",
       "\n",
       "    .dataframe thead th {\n",
       "        text-align: right;\n",
       "    }\n",
       "</style>\n",
       "<table border=\"1\" class=\"dataframe\">\n",
       "  <thead>\n",
       "    <tr style=\"text-align: right;\">\n",
       "      <th></th>\n",
       "      <th>Pclass</th>\n",
       "      <th>SibSp</th>\n",
       "      <th>Parch</th>\n",
       "      <th>Fare</th>\n",
       "      <th>Sex_female</th>\n",
       "      <th>Sex_male</th>\n",
       "      <th>Agegroup_kid</th>\n",
       "      <th>Agegroup_teenager</th>\n",
       "      <th>Agegroup_young</th>\n",
       "      <th>Agegroup_middleage</th>\n",
       "      <th>Agegroup_old</th>\n",
       "      <th>Embarked_C</th>\n",
       "      <th>Embarked_Q</th>\n",
       "      <th>Embarked_S</th>\n",
       "    </tr>\n",
       "  </thead>\n",
       "  <tbody>\n",
       "    <tr>\n",
       "      <th>0</th>\n",
       "      <td>3</td>\n",
       "      <td>1</td>\n",
       "      <td>0</td>\n",
       "      <td>7.2500</td>\n",
       "      <td>0</td>\n",
       "      <td>1</td>\n",
       "      <td>0</td>\n",
       "      <td>0</td>\n",
       "      <td>1</td>\n",
       "      <td>0</td>\n",
       "      <td>0</td>\n",
       "      <td>0</td>\n",
       "      <td>0</td>\n",
       "      <td>1</td>\n",
       "    </tr>\n",
       "    <tr>\n",
       "      <th>1</th>\n",
       "      <td>1</td>\n",
       "      <td>1</td>\n",
       "      <td>0</td>\n",
       "      <td>71.2833</td>\n",
       "      <td>1</td>\n",
       "      <td>0</td>\n",
       "      <td>0</td>\n",
       "      <td>0</td>\n",
       "      <td>1</td>\n",
       "      <td>0</td>\n",
       "      <td>0</td>\n",
       "      <td>1</td>\n",
       "      <td>0</td>\n",
       "      <td>0</td>\n",
       "    </tr>\n",
       "    <tr>\n",
       "      <th>2</th>\n",
       "      <td>3</td>\n",
       "      <td>0</td>\n",
       "      <td>0</td>\n",
       "      <td>7.9250</td>\n",
       "      <td>1</td>\n",
       "      <td>0</td>\n",
       "      <td>0</td>\n",
       "      <td>0</td>\n",
       "      <td>1</td>\n",
       "      <td>0</td>\n",
       "      <td>0</td>\n",
       "      <td>0</td>\n",
       "      <td>0</td>\n",
       "      <td>1</td>\n",
       "    </tr>\n",
       "    <tr>\n",
       "      <th>3</th>\n",
       "      <td>1</td>\n",
       "      <td>1</td>\n",
       "      <td>0</td>\n",
       "      <td>53.1000</td>\n",
       "      <td>1</td>\n",
       "      <td>0</td>\n",
       "      <td>0</td>\n",
       "      <td>0</td>\n",
       "      <td>1</td>\n",
       "      <td>0</td>\n",
       "      <td>0</td>\n",
       "      <td>0</td>\n",
       "      <td>0</td>\n",
       "      <td>1</td>\n",
       "    </tr>\n",
       "    <tr>\n",
       "      <th>4</th>\n",
       "      <td>3</td>\n",
       "      <td>0</td>\n",
       "      <td>0</td>\n",
       "      <td>8.0500</td>\n",
       "      <td>0</td>\n",
       "      <td>1</td>\n",
       "      <td>0</td>\n",
       "      <td>0</td>\n",
       "      <td>1</td>\n",
       "      <td>0</td>\n",
       "      <td>0</td>\n",
       "      <td>0</td>\n",
       "      <td>0</td>\n",
       "      <td>1</td>\n",
       "    </tr>\n",
       "  </tbody>\n",
       "</table>\n",
       "</div>"
      ],
      "text/plain": [
       "   Pclass  SibSp  Parch     Fare  Sex_female  Sex_male  Agegroup_kid  \\\n",
       "0       3      1      0   7.2500           0         1             0   \n",
       "1       1      1      0  71.2833           1         0             0   \n",
       "2       3      0      0   7.9250           1         0             0   \n",
       "3       1      1      0  53.1000           1         0             0   \n",
       "4       3      0      0   8.0500           0         1             0   \n",
       "\n",
       "   Agegroup_teenager  Agegroup_young  Agegroup_middleage  Agegroup_old  \\\n",
       "0                  0               1                   0             0   \n",
       "1                  0               1                   0             0   \n",
       "2                  0               1                   0             0   \n",
       "3                  0               1                   0             0   \n",
       "4                  0               1                   0             0   \n",
       "\n",
       "   Embarked_C  Embarked_Q  Embarked_S  \n",
       "0           0           0           1  \n",
       "1           1           0           0  \n",
       "2           0           0           1  \n",
       "3           0           0           1  \n",
       "4           0           0           1  "
      ]
     },
     "execution_count": 11,
     "metadata": {},
     "output_type": "execute_result"
    }
   ],
   "source": [
    "features = [\"Pclass\",\"Sex\",\"SibSp\",\"Parch\",\"Agegroup\",\"Fare\",\"Embarked\"]\n",
    "X = pd.get_dummies(train_data[features])\n",
    "X_test = pd.get_dummies(test_data[features])\n",
    "X.head()"
   ]
  },
  {
   "cell_type": "code",
   "execution_count": 12,
   "id": "112eae14",
   "metadata": {
    "editable": false,
    "execution": {
     "iopub.execute_input": "2021-09-18T10:40:46.304290Z",
     "iopub.status.busy": "2021-09-18T10:40:46.303690Z",
     "iopub.status.idle": "2021-09-18T10:40:46.430840Z",
     "shell.execute_reply": "2021-09-18T10:40:46.430313Z",
     "shell.execute_reply.started": "2021-09-18T10:39:57.683294Z"
    },
    "papermill": {
     "duration": 0.148292,
     "end_time": "2021-09-18T10:40:46.430989",
     "exception": false,
     "start_time": "2021-09-18T10:40:46.282697",
     "status": "completed"
    },
    "tags": []
   },
   "outputs": [],
   "source": [
    "from sklearn.preprocessing import StandardScaler\n",
    "scaler = StandardScaler()\n",
    "X = scaler.fit_transform(X)\n",
    "X_test = scaler.fit_transform(X_test)\n"
   ]
  },
  {
   "cell_type": "code",
   "execution_count": 13,
   "id": "752295a7",
   "metadata": {
    "editable": false,
    "execution": {
     "iopub.execute_input": "2021-09-18T10:40:46.470418Z",
     "iopub.status.busy": "2021-09-18T10:40:46.469819Z",
     "iopub.status.idle": "2021-09-18T10:40:46.774149Z",
     "shell.execute_reply": "2021-09-18T10:40:46.774600Z",
     "shell.execute_reply.started": "2021-09-18T10:39:57.700123Z"
    },
    "papermill": {
     "duration": 0.326658,
     "end_time": "2021-09-18T10:40:46.774797",
     "exception": false,
     "start_time": "2021-09-18T10:40:46.448139",
     "status": "completed"
    },
    "tags": []
   },
   "outputs": [],
   "source": [
    "from sklearn.model_selection import GridSearchCV\n",
    "from sklearn.linear_model import LogisticRegression\n",
    "from sklearn.svm import SVC\n",
    "from sklearn.neighbors import KNeighborsClassifier\n",
    "from sklearn.tree import DecisionTreeClassifier"
   ]
  },
  {
   "cell_type": "code",
   "execution_count": 14,
   "id": "38e19e7d",
   "metadata": {
    "editable": false,
    "execution": {
     "iopub.execute_input": "2021-09-18T10:40:46.815449Z",
     "iopub.status.busy": "2021-09-18T10:40:46.814858Z",
     "iopub.status.idle": "2021-09-18T10:40:46.817086Z",
     "shell.execute_reply": "2021-09-18T10:40:46.816459Z",
     "shell.execute_reply.started": "2021-09-18T10:39:57.707678Z"
    },
    "papermill": {
     "duration": 0.025263,
     "end_time": "2021-09-18T10:40:46.817219",
     "exception": false,
     "start_time": "2021-09-18T10:40:46.791956",
     "status": "completed"
    },
    "tags": []
   },
   "outputs": [],
   "source": [
    "def plot_confusion_matrix(y,y_predict):\n",
    "    \"this function plots the confusion matrix\"\n",
    "    from sklearn.metrics import confusion_matrix\n",
    "\n",
    "    cm = confusion_matrix(y, y_predict)\n",
    "    ax= plt.subplot()\n",
    "    sns.heatmap(cm, annot=True, ax = ax); #annot=True to annotate cells\n",
    "    ax.set_xlabel('Predicted labels')\n",
    "    ax.set_ylabel('True labels')\n",
    "    ax.set_title('Confusion Matrix'); \n",
    "    ax.xaxis.set_ticklabels(['did not survive', 'survived']); ax.yaxis.set_ticklabels(['did not survive', 'survived'])"
   ]
  },
  {
   "cell_type": "code",
   "execution_count": 15,
   "id": "b0a061cb",
   "metadata": {
    "editable": false,
    "execution": {
     "iopub.execute_input": "2021-09-18T10:40:46.855852Z",
     "iopub.status.busy": "2021-09-18T10:40:46.855245Z",
     "iopub.status.idle": "2021-09-18T10:40:46.857343Z",
     "shell.execute_reply": "2021-09-18T10:40:46.857794Z",
     "shell.execute_reply.started": "2021-09-18T10:39:57.717830Z"
    },
    "papermill": {
     "duration": 0.023586,
     "end_time": "2021-09-18T10:40:46.857954",
     "exception": false,
     "start_time": "2021-09-18T10:40:46.834368",
     "status": "completed"
    },
    "tags": []
   },
   "outputs": [],
   "source": [
    "y = train_data[\"Survived\"]"
   ]
  },
  {
   "cell_type": "code",
   "execution_count": 16,
   "id": "2cc8174e",
   "metadata": {
    "editable": false,
    "execution": {
     "iopub.execute_input": "2021-09-18T10:40:46.897980Z",
     "iopub.status.busy": "2021-09-18T10:40:46.896797Z",
     "iopub.status.idle": "2021-09-18T10:40:47.276820Z",
     "shell.execute_reply": "2021-09-18T10:40:47.277826Z",
     "shell.execute_reply.started": "2021-09-18T10:39:57.731966Z"
    },
    "papermill": {
     "duration": 0.403043,
     "end_time": "2021-09-18T10:40:47.278094",
     "exception": false,
     "start_time": "2021-09-18T10:40:46.875051",
     "status": "completed"
    },
    "tags": []
   },
   "outputs": [
    {
     "data": {
      "text/plain": [
       "GridSearchCV(cv=10, estimator=LogisticRegression(),\n",
       "             param_grid={'C': [0.01, 0.1, 1], 'penalty': ['l2'],\n",
       "                         'solver': ['lbfgs']})"
      ]
     },
     "execution_count": 16,
     "metadata": {},
     "output_type": "execute_result"
    }
   ],
   "source": [
    "parameters ={\"C\":[0.01,0.1,1],'penalty':['l2'], 'solver':['lbfgs']}# l1 lasso l2 ridge\n",
    "lr=LogisticRegression()\n",
    "logreg_cv = GridSearchCV(lr,parameters,cv=10)\n",
    "logreg_cv.fit(X,y)"
   ]
  },
  {
   "cell_type": "code",
   "execution_count": 17,
   "id": "a6727a9e",
   "metadata": {
    "editable": false,
    "execution": {
     "iopub.execute_input": "2021-09-18T10:40:47.350717Z",
     "iopub.status.busy": "2021-09-18T10:40:47.349728Z",
     "iopub.status.idle": "2021-09-18T10:40:47.357635Z",
     "shell.execute_reply": "2021-09-18T10:40:47.358538Z",
     "shell.execute_reply.started": "2021-09-18T10:39:58.160173Z"
    },
    "papermill": {
     "duration": 0.047524,
     "end_time": "2021-09-18T10:40:47.358826",
     "exception": false,
     "start_time": "2021-09-18T10:40:47.311302",
     "status": "completed"
    },
    "tags": []
   },
   "outputs": [
    {
     "data": {
      "text/plain": [
       "0.8114478114478114"
      ]
     },
     "execution_count": 17,
     "metadata": {},
     "output_type": "execute_result"
    }
   ],
   "source": [
    "logreg_cv.score(X,y)"
   ]
  },
  {
   "cell_type": "code",
   "execution_count": 18,
   "id": "0d7f4e86",
   "metadata": {
    "execution": {
     "iopub.execute_input": "2021-09-18T10:40:47.440079Z",
     "iopub.status.busy": "2021-09-18T10:40:47.439039Z",
     "iopub.status.idle": "2021-09-18T10:40:47.447176Z",
     "shell.execute_reply": "2021-09-18T10:40:47.448828Z",
     "shell.execute_reply.started": "2021-09-18T10:39:58.173694Z"
    },
    "papermill": {
     "duration": 0.056955,
     "end_time": "2021-09-18T10:40:47.449093",
     "exception": false,
     "start_time": "2021-09-18T10:40:47.392138",
     "status": "completed"
    },
    "tags": []
   },
   "outputs": [
    {
     "name": "stdout",
     "output_type": "stream",
     "text": [
      "Your submission was successfuly saved\n"
     ]
    }
   ],
   "source": [
    "predictions = logreg_cv.predict(X_test)\n",
    "\n",
    "output = pd.DataFrame({'PassengerId': test_data['PassengerId'].values, 'Survived': predictions})\n",
    "output.to_csv('submission1.csv',index = False )\n",
    "print(\"Your submission was successfuly saved\")"
   ]
  },
  {
   "cell_type": "code",
   "execution_count": null,
   "id": "4745f3a5",
   "metadata": {
    "papermill": {
     "duration": 0.017404,
     "end_time": "2021-09-18T10:40:47.491923",
     "exception": false,
     "start_time": "2021-09-18T10:40:47.474519",
     "status": "completed"
    },
    "tags": []
   },
   "outputs": [],
   "source": []
  }
 ],
 "metadata": {
  "kernelspec": {
   "display_name": "Python 3",
   "language": "python",
   "name": "python3"
  },
  "language_info": {
   "codemirror_mode": {
    "name": "ipython",
    "version": 3
   },
   "file_extension": ".py",
   "mimetype": "text/x-python",
   "name": "python",
   "nbconvert_exporter": "python",
   "pygments_lexer": "ipython3",
   "version": "3.7.10"
  },
  "papermill": {
   "default_parameters": {},
   "duration": 11.716555,
   "end_time": "2021-09-18T10:40:48.962777",
   "environment_variables": {},
   "exception": null,
   "input_path": "__notebook__.ipynb",
   "output_path": "__notebook__.ipynb",
   "parameters": {},
   "start_time": "2021-09-18T10:40:37.246222",
   "version": "2.3.3"
  }
 },
 "nbformat": 4,
 "nbformat_minor": 5
}
